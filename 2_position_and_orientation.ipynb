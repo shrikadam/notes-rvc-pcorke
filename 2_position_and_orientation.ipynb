{
 "cells": [
  {
   "cell_type": "markdown",
   "metadata": {},
   "source": [
    "A point is a mathematical abstraction which can be expressed with a vector that represents displacement of the point from a coordinate frame. A vector can be described as a combination of unit vectors along the axes of the coordinate frame. Point has a position in the coordinate frame.\n",
    "\n",
    "![Point P](1.png)\n",
    "\n",
    "An object is a combination of multiple points. In addition to position, the object also has orientation, due to a point's ability to rotate with respect to the other.\n",
    "\n",
    "In a 3-dimensional world, we need 6 dimensions to completely describe the pose (position and orientation) of an object - 3 for position and 3 for orientation."
   ]
  }
 ],
 "metadata": {
  "kernelspec": {
   "display_name": "Python 3",
   "language": "python",
   "name": "python3"
  },
  "language_info": {
   "codemirror_mode": {
    "name": "ipython",
    "version": 3
   },
   "file_extension": ".py",
   "mimetype": "text/x-python",
   "name": "python",
   "nbconvert_exporter": "python",
   "pygments_lexer": "ipython3",
   "version": "3.8.10"
  },
  "orig_nbformat": 4
 },
 "nbformat": 4,
 "nbformat_minor": 2
}
